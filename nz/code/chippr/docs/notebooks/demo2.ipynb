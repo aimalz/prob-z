{
 "cells": [
  {
   "cell_type": "markdown",
   "metadata": {},
   "source": [
    "# CHIPPR\n",
    "\n",
    "This notebook demonstrates the use of the Cosmological Hierarchical Inference with Probabilistic Photometric Redshifts (CHIPPR) package to estimate the redshift density function."
   ]
  },
  {
   "cell_type": "code",
   "execution_count": 1,
   "metadata": {
    "collapsed": false
   },
   "outputs": [
    {
     "name": "stderr",
     "output_type": "stream",
     "text": [
      "/Users/aimalz/anaconda/lib/python2.7/site-packages/matplotlib/__init__.py:1350: UserWarning:  This call to matplotlib.use() has no effect\n",
      "because the backend has already been chosen;\n",
      "matplotlib.use() must be called *before* pylab, matplotlib.pyplot,\n",
      "or matplotlib.backends is imported for the first time.\n",
      "\n",
      "  warnings.warn(_use_error_msg)\n"
     ]
    }
   ],
   "source": [
    "import numpy as np\n",
    "import matplotlib.pyplot as plt\n",
    "%matplotlib inline\n",
    "\n",
    "from chippr import *"
   ]
  },
  {
   "cell_type": "markdown",
   "metadata": {},
   "source": [
    "## Simulation"
   ]
  },
  {
   "cell_type": "markdown",
   "metadata": {},
   "source": [
    "## Inference"
   ]
  },
  {
   "cell_type": "code",
   "execution_count": 2,
   "metadata": {
    "collapsed": false
   },
   "outputs": [],
   "source": [
    "data_loc = '../../../prob-z/nz/code/tests/sig2/data/logdata.csv'\n",
    "\n",
    "with open(data_loc,'rb') as data_file:\n",
    "    tuples = (line.split(None) for line in data_file)\n",
    "    data = [[float(pair[k]) for k in range(0,len(pair))] for pair in tuples]"
   ]
  },
  {
   "cell_type": "code",
   "execution_count": 3,
   "metadata": {
    "collapsed": false
   },
   "outputs": [
    {
     "name": "stdout",
     "output_type": "stream",
     "text": [
      "((36,), (35,), (1022, 35))\n"
     ]
    }
   ],
   "source": [
    "zs = np.array(data[0])\n",
    "nz_intp = np.array(data[1])\n",
    "z_posts = np.array(data[2:])\n",
    "\n",
    "print(np.shape(zs), np.shape(nz_intp), np.shape(z_posts))\n",
    "\n",
    "zmids = (zs[1:]+zs[:-1])/2.\n",
    "nbins = len(zmids)"
   ]
  },
  {
   "cell_type": "code",
   "execution_count": 4,
   "metadata": {
    "collapsed": false
   },
   "outputs": [],
   "source": [
    "prior_sigma = 0.16\n",
    "prior_var = np.eye(nbins)\n",
    "for b in range(nbins):\n",
    "    prior_var[b] = 1. * np.exp(-0.5 * (zmids[b] - zmids) ** 2 / prior_sigma ** 2)\n",
    "l = 1.e-4\n",
    "prior_var = prior_var+l*np.identity(nbins)"
   ]
  },
  {
   "cell_type": "code",
   "execution_count": 5,
   "metadata": {
    "collapsed": false
   },
   "outputs": [
    {
     "name": "stdout",
     "output_type": "stream",
     "text": [
      "35 bins, 1022 interim posterior PDFs\n"
     ]
    }
   ],
   "source": [
    "nz = z_dens(data, prior_var, vb=True)"
   ]
  },
  {
   "cell_type": "code",
   "execution_count": 6,
   "metadata": {
    "collapsed": false
   },
   "outputs": [
    {
     "data": {
      "image/png": "[encoded data removed]",
      "text/plain": [
       "<matplotlib.figure.Figure at 0x1083af110>"
      ]
     },
     "metadata": {},
     "output_type": "display_data"
    }
   ],
   "source": [
    "nz_mmap = nz.mmap()\n",
    "nz.plot()"
   ]
  },
  {
   "cell_type": "code",
   "execution_count": 7,
   "metadata": {
    "collapsed": false
   },
   "outputs": [
    {
     "name": "stdout",
     "output_type": "stream",
     "text": [
      "Help on class z_dens in module chippr.z_dens:\n",
      "\n",
      "class z_dens(__builtin__.object)\n",
      " |  Methods defined here:\n",
      " |  \n",
      " |  __init__(self, data_list, hpvar, truth_fun=None, vb=True)\n",
      " |      An object representing the redshift density function (normalized redshift distribution function)\n",
      " |      \n",
      " |      Parameters\n",
      " |      ----------\n",
      " |      data_list: list\n",
      " |          list containing bin endpoints, logged interim prior bin values, and logged interim posterior PDF bin values\n",
      " |      hpvar: ndarray\n",
      " |          array of covariance matrix for hyperprior distribution\n",
      " |      truth_fun: function, optional\n",
      " |          function taking ndarray of redshifts to ndarray of true redshift density function values\n",
      " |      vb: boolean\n",
      " |          True to print progress messages to stdout, False to suppress\n",
      " |  \n",
      " |  mmap(self)\n",
      " |      Calculates the marginalized maximum a posteriori estimator of the redshift density function\n",
      " |      \n",
      " |      Returns\n",
      " |      -------\n",
      " |      log_mmap_dens: ndarray\n",
      " |          array of redshift density function bin values\n",
      " |  \n",
      " |  plot(self, plot_loc='')\n",
      " |      Plots all available estimators of the redshift density function.\n",
      " |  \n",
      " |  ----------------------------------------------------------------------\n",
      " |  Data descriptors defined here:\n",
      " |  \n",
      " |  __dict__\n",
      " |      dictionary for instance variables (if defined)\n",
      " |  \n",
      " |  __weakref__\n",
      " |      list of weak references to the object (if defined)\n",
      "\n"
     ]
    }
   ],
   "source": [
    "help(z_dens)"
   ]
  },
  {
   "cell_type": "code",
   "execution_count": null,
   "metadata": {
    "collapsed": true
   },
   "outputs": [],
   "source": [
    "nz_mexp = nz.mexp()"
   ]
  },
  {
   "cell_type": "code",
   "execution_count": null,
   "metadata": {
    "collapsed": true
   },
   "outputs": [],
   "source": [
    "nz_stack = nz.stack()"
   ]
  },
  {
   "cell_type": "code",
   "execution_count": null,
   "metadata": {
    "collapsed": true
   },
   "outputs": [],
   "source": [
    "nz_mmle = nz.infer(nz_lf)"
   ]
  },
  {
   "cell_type": "code",
   "execution_count": null,
   "metadata": {
    "collapsed": true
   },
   "outputs": [],
   "source": [
    "nz_samps = nz.sample(nz_lf)"
   ]
  },
  {
   "cell_type": "code",
   "execution_count": null,
   "metadata": {
    "collapsed": true
   },
   "outputs": [],
   "source": [
    "nz.plot()"
   ]
  }
 ],
 "metadata": {
  "kernelspec": {
   "display_name": "Python 2",
   "language": "python",
   "name": "python2"
  },
  "language_info": {
   "codemirror_mode": {
    "name": "ipython",
    "version": 2
   },
   "file_extension": ".py",
   "mimetype": "text/x-python",
   "name": "python",
   "nbconvert_exporter": "python",
   "pygments_lexer": "ipython2",
   "version": "2.7.12"
  }
 },
 "nbformat": 4,
 "nbformat_minor": 0
}
