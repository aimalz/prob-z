{
 "cells": [
  {
   "cell_type": "markdown",
   "metadata": {},
   "source": [
    "This notebook downloads BOSS DR10 p(z) data and formats it for use by ZPDFTW code.\n",
    "It currently lacks the calculation of the interim prior on N(z) used to produce the p(z) data so a flat interim prior is substituted here.  This is not valid for calculations!"
   ]
  },
  {
   "cell_type": "code",
   "execution_count": 20,
   "metadata": {
    "collapsed": true
   },
   "outputs": [],
   "source": [
    "import requests\n",
    "import numpy as np\n",
    "import csv\n",
    "import re\n",
    "import os\n",
    "import sys\n",
    "import pyfits\n",
    "import random\n",
    "import matplotlib.pyplot as plt\n",
    "%matplotlib inline\n",
    "\n",
    "colors = 'rgbcmy'"
   ]
  },
  {
   "cell_type": "code",
   "execution_count": 2,
   "metadata": {
    "collapsed": true
   },
   "outputs": [],
   "source": [
    "def safelog(xarr):\n",
    "    \"\"\"\n",
    "    safelog takes log of array with zeroes\n",
    "    \"\"\"\n",
    "    shape = np.shape(xarr)\n",
    "    flat = xarr.flatten()\n",
    "    logged = np.log(np.array([max(x,sys.float_info.epsilon) for x in flat]))\n",
    "    return logged.reshape(shape)"
   ]
  },
  {
   "cell_type": "code",
   "execution_count": 4,
   "metadata": {
    "collapsed": false
   },
   "outputs": [],
   "source": [
    "with pyfits.open(\"http://data.sdss3.org/sas/dr10/boss/photoObj/photoz-weight/zbins-12.fits\") as Zbins:\n",
    "    Zlos = np.array([Zbins[1].data[i][0] for i in range(0,len(Zbins[1].data))])\n",
    "    Zhis = np.array([Zbins[1].data[i][1] for i in range(0,len(Zbins[1].data))])\n",
    "allZs = np.unique(np.concatenate((Zlos,Zhis)))\n",
    "Zdifs = Zhis-Zlos\n",
    "nbins = len(allZs-1)"
   ]
  },
  {
   "cell_type": "code",
   "execution_count": 5,
   "metadata": {
    "collapsed": true
   },
   "outputs": [],
   "source": [
    "data = requests.get('http://data.sdss3.org/sas/dr10/boss/photoObj/photoz-weight/')\n",
    "formatted = data.content\n",
    "lines = formatted.split('\\n')\n",
    "plantest = [str.split(line) for line in lines]\n",
    "\n",
    "sizes = np.array([int(plantest[::2][i][4]) for i in range(3,562)])\n",
    "names = np.array([plantest[::2][i][1][6:28] for i in range(3,562)])"
   ]
  },
  {
   "cell_type": "code",
   "execution_count": 6,
   "metadata": {
    "collapsed": false
   },
   "outputs": [
    {
     "data": {
      "text/plain": [
       "XTENSION= 'BINTABLE'           / binary table extension                         \n",
       "BITPIX  =                    8 / array data type                                \n",
       "NAXIS   =                    2 / number of array dimensions                     \n",
       "NAXIS1  =                  203 / length of dimension 1                          \n",
       "NAXIS2  =                    1 / length of dimension 2                          \n",
       "PCOUNT  =                    0 / number of group parameters                     \n",
       "GCOUNT  =                    1 / number of groups                               \n",
       "TFIELDS =                   14 / number of table fields                         \n",
       "TTYPE1  = 'objid   '                                                            \n",
       "TFORM1  = 'K       '                                                            \n",
       "TTYPE2  = 'run     '                                                            \n",
       "TFORM2  = 'J       '                                                            \n",
       "TTYPE3  = 'rerun   '                                                            \n",
       "TFORM3  = '3A      '                                                            \n",
       "TTYPE4  = 'camcol  '                                                            \n",
       "TFORM4  = 'J       '                                                            \n",
       "TTYPE5  = 'field   '                                                            \n",
       "TFORM5  = 'J       '                                                            \n",
       "TTYPE6  = 'id      '                                                            \n",
       "TFORM6  = 'J       '                                                            \n",
       "TTYPE7  = 'ra      '                                                            \n",
       "TFORM7  = 'D       '                                                            \n",
       "TTYPE8  = 'dec     '                                                            \n",
       "TFORM8  = 'D       '                                                            \n",
       "TTYPE9  = 'cmodelmag_r'                                                         \n",
       "TFORM9  = 'E       '                                                            \n",
       "TTYPE10 = 'modelmag_umg'                                                        \n",
       "TFORM10 = 'E       '                                                            \n",
       "TTYPE11 = 'modelmag_gmr'                                                        \n",
       "TFORM11 = 'E       '                                                            \n",
       "TTYPE12 = 'modelmag_rmi'                                                        \n",
       "TFORM12 = 'E       '                                                            \n",
       "TTYPE13 = 'modelmag_imz'                                                        \n",
       "TFORM13 = 'E       '                                                            \n",
       "TTYPE14 = 'pofz    '                                                            \n",
       "TFORM14 = '35E     '                                                            "
      ]
     },
     "execution_count": 6,
     "metadata": {},
     "output_type": "execute_result"
    }
   ],
   "source": [
    "address = names[np.argmin(sizes)]\n",
    "topdir = 'http://data.sdss3.org/sas/dr8/groups/boss/photoObj/photoz-weight/'\n",
    "link = topdir+address\n",
    "pZtest = pyfits.open(link)\n",
    "pZtest[1].header"
   ]
  },
  {
   "cell_type": "code",
   "execution_count": 42,
   "metadata": {
    "collapsed": false
   },
   "outputs": [
    {
     "name": "stdout",
     "output_type": "stream",
     "text": [
      "18133\n"
     ]
    }
   ],
   "source": [
    "import urllib2\n",
    "\n",
    "#mags = []\n",
    "pZdists = []\n",
    "topdir = 'http://data.sdss3.org/sas/dr8/groups/boss/photoObj/photoz-weight/'\n",
    "for i in xrange(len(names)):\n",
    "    address = names[i]\n",
    "    size = sizes[i]\n",
    "    if size < 100000:# comment this out if using\n",
    "        link = topdir+address\n",
    "        with pyfits.open(link) as pZtest:\n",
    "            data = pZtest[1].data\n",
    "            for j in xrange(len(data)):\n",
    "                #if data[j][8] < 20:\n",
    "                pZdists.append(data[j][13])\n",
    "                    #mags.append(data[j][8])\n",
    "#mags = np.array(mags)\n",
    "pZdists = np.array(pZdists)\n",
    "logpZdists = safelog(pZdists)\n",
    "ngals = len(pZdists)\n",
    "print(ngals)"
   ]
  },
  {
   "cell_type": "code",
   "execution_count": 32,
   "metadata": {
    "collapsed": false
   },
   "outputs": [
    {
     "name": "stdout",
     "output_type": "stream",
     "text": [
      "20.4789\n",
      "20.6707\n"
     ]
    },
    {
     "data": {
      "text/plain": [
       "(array([   4.,    6.,   13.,   29.,   62.,   98.,  192.,  298.,  396.,  396.]),\n",
       " array([ 15.90144348,  16.49125977,  17.08107605,  17.67089233,\n",
       "         18.26070862,  18.8505249 ,  19.44034119,  20.03015747,\n",
       "         20.61997375,  21.20979004,  21.79960632]),\n",
       " <a list of 10 Patch objects>)"
      ]
     },
     "execution_count": 32,
     "metadata": {},
     "output_type": "execute_result"
    },
    {
     "data": {
      "image/png": "[encoded data removed]",
      "text/plain": [
       "<matplotlib.figure.Figure at 0x1074b9cd0>"
      ]
     },
     "metadata": {},
     "output_type": "display_data"
    }
   ],
   "source": [
    "print(np.mean(mags))\n",
    "print(np.median(mags))\n",
    "plt.hist(mags)"
   ]
  },
  {
   "cell_type": "markdown",
   "metadata": {},
   "source": [
    "zmin    zmax    N(z)    sigma\n",
    "0.000 \t0.031 \t0.150 \t0.052\n",
    "0.031 \t0.063 \t0.822 \t0.215\n",
    "0.063 \t0.094 \t1.837 \t0.409\n",
    "0.094 \t0.126 \t2.815 \t0.503\n",
    "0.126 \t0.157 \t3.909 \t0.509\n",
    "0.157 \t0.189 \t5.116 \t0.725\n",
    "0.189 \t0.220 \t6.065 \t0.905\n",
    "0.220 \t0.251 \t6.477 \t0.767\n",
    "0.251 \t0.283 \t6.834 \t0.817\n",
    "0.283 \t0.314 \t7.304 \t0.868\n",
    "0.314 \t0.346 \t7.068 \t0.645\n",
    "0.346 \t0.377 \t6.771 \t0.785\n",
    "0.377 \t0.409 \t6.587 \t0.609\n",
    "0.409 \t0.440 \t6.089 \t0.627\n",
    "0.440 \t0.471 \t5.165 \t0.602\n",
    "0.471 \t0.503 \t4.792 \t0.522\n",
    "0.503 \t0.534 \t4.228 \t0.383\n",
    "0.534 \t0.566 \t3.664 \t0.394\n",
    "0.566 \t0.597 \t3.078 \t0.364\n",
    "0.597 \t0.629 \t2.604 \t0.275\n",
    "0.629 \t0.660 \t2.130 \t0.224\n",
    "0.660 \t0.691 \t1.683 \t0.191\n",
    "0.691 \t0.723 \t1.348 \t0.156\n",
    "0.723 \t0.754 \t0.977 \t0.141\n",
    "0.754 \t0.786 \t0.703 \t0.102\n",
    "0.786 \t0.817 \t0.521 \t0.080\n",
    "0.817 \t0.849 \t0.339 \t0.060\n",
    "0.849 \t0.880 \t0.283 \t0.048\n",
    "0.880 \t0.911 \t0.187 \t0.037\n",
    "0.911 \t0.943 \t0.141 \t0.031\n",
    "0.943 \t0.974 \t0.104 \t0.027\n",
    "0.974 \t1.006 \t0.081 \t0.020\n",
    "1.006 \t1.037 \t0.055 \t0.017\n",
    "1.037 \t1.069 \t0.043 \t0.015\n",
    "1.069 \t1.100 \t0.034 \t0.012"
   ]
  },
  {
   "cell_type": "code",
   "execution_count": 43,
   "metadata": {
    "collapsed": false
   },
   "outputs": [],
   "source": [
    "intprior = np.array([0.150,0.822,1.837,2.815,3.909,5.116,6.065,6.477,6.834,7.304,7.068,6.771,6.587,6.089,5.165,4.729,\n",
    "                     4.228,3.664,3.078,2.604,2.130,1.683,1.348,0.977,0.703,0.521,0.339,0.283,0.187,0.141,0.104,0.081,\n",
    "                     0.055,0.043,0.034])\n",
    "intprior = ngals*intprior/np.dot(Zdifs,intprior)\n",
    "logintprior = safelog(intprior)"
   ]
  },
  {
   "cell_type": "code",
   "execution_count": 45,
   "metadata": {
    "collapsed": false
   },
   "outputs": [],
   "source": [
    "with open('tests/data-test/data/logdata.csv', 'wb') as csvfile:\n",
    "    pZwriter = csv.writer(csvfile, delimiter=' ')\n",
    "    pZwriter.writerow(allZs)\n",
    "    pZwriter.writerow(logintprior)\n",
    "    pZwriter.writerows(logpZdists)"
   ]
  },
  {
   "cell_type": "markdown",
   "metadata": {
    "collapsed": false
   },
   "source": [
    "plt.title('Randomly sampled redshift distributions')\n",
    "randgals = random.sample(xrange(ngals),6)\n",
    "for j in xrange(6):#randgals:\n",
    "    plt.hlines(pZdists[randgals[j]],Zlos,Zhis,color=colors[j%6])\n",
    "    plt.vlines(allZs[1:-1],pZdists[randgals[j]][:-1],pZdists[randgals[j]][1:],color=colors[j%6])\n",
    "plt.show()"
   ]
  },
  {
   "cell_type": "code",
   "execution_count": null,
   "metadata": {
    "collapsed": true
   },
   "outputs": [],
   "source": []
  }
 ],
 "metadata": {
  "kernelspec": {
   "display_name": "Python 2",
   "language": "python",
   "name": "python2"
  },
  "language_info": {
   "codemirror_mode": {
    "name": "ipython",
    "version": 2
   },
   "file_extension": ".py",
   "mimetype": "text/x-python",
   "name": "python",
   "nbconvert_exporter": "python",
   "pygments_lexer": "ipython2",
   "version": "2.7.10"
  }
 },
 "nbformat": 4,
 "nbformat_minor": 0
}
